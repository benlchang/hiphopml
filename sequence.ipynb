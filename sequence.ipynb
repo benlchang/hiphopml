{
 "cells": [
  {
   "cell_type": "code",
   "execution_count": 9,
   "metadata": {},
   "outputs": [
    {
     "name": "stderr",
     "output_type": "stream",
     "text": [
      "ERROR: Invalid requirement: '#tensorflow': Expected package name at the start of dependency specifier\n",
      "    #tensorflow\n",
      "    ^\n"
     ]
    },
    {
     "name": "stdout",
     "output_type": "stream",
     "text": [
      "Requirement already satisfied: mediapipe in c:\\users\\benlc\\appdata\\roaming\\python\\python311\\site-packages (0.10.14)\n",
      "Requirement already satisfied: absl-py in c:\\users\\benlc\\hiphopml\\env\\lib\\site-packages (from mediapipe) (2.1.0)\n",
      "Requirement already satisfied: attrs>=19.1.0 in c:\\users\\benlc\\hiphopml\\env\\lib\\site-packages (from mediapipe) (23.2.0)\n",
      "Requirement already satisfied: flatbuffers>=2.0 in c:\\users\\benlc\\hiphopml\\env\\lib\\site-packages (from mediapipe) (24.3.25)\n",
      "Requirement already satisfied: jax in c:\\users\\benlc\\appdata\\roaming\\python\\python311\\site-packages (from mediapipe) (0.4.30)\n",
      "Requirement already satisfied: jaxlib in c:\\users\\benlc\\appdata\\roaming\\python\\python311\\site-packages (from mediapipe) (0.4.30)\n",
      "Requirement already satisfied: matplotlib in c:\\users\\benlc\\appdata\\roaming\\python\\python311\\site-packages (from mediapipe) (3.9.0)\n",
      "Requirement already satisfied: numpy in c:\\users\\benlc\\hiphopml\\env\\lib\\site-packages (from mediapipe) (1.26.4)\n",
      "Requirement already satisfied: opencv-contrib-python in c:\\users\\benlc\\appdata\\roaming\\python\\python311\\site-packages (from mediapipe) (4.10.0.84)\n",
      "Requirement already satisfied: protobuf<5,>=4.25.3 in c:\\users\\benlc\\hiphopml\\env\\lib\\site-packages (from mediapipe) (4.25.3)\n",
      "Requirement already satisfied: sounddevice>=0.4.4 in c:\\users\\benlc\\appdata\\roaming\\python\\python311\\site-packages (from mediapipe) (0.4.7)\n",
      "Requirement already satisfied: CFFI>=1.0 in c:\\users\\benlc\\hiphopml\\env\\lib\\site-packages (from sounddevice>=0.4.4->mediapipe) (1.16.0)\n",
      "Requirement already satisfied: ml-dtypes>=0.2.0 in c:\\users\\benlc\\hiphopml\\env\\lib\\site-packages (from jax->mediapipe) (0.3.2)\n",
      "Requirement already satisfied: opt-einsum in c:\\users\\benlc\\hiphopml\\env\\lib\\site-packages (from jax->mediapipe) (3.3.0)\n",
      "Requirement already satisfied: scipy>=1.9 in c:\\users\\benlc\\hiphopml\\env\\lib\\site-packages (from jax->mediapipe) (1.14.0)\n",
      "Requirement already satisfied: contourpy>=1.0.1 in c:\\users\\benlc\\appdata\\roaming\\python\\python311\\site-packages (from matplotlib->mediapipe) (1.2.1)\n",
      "Requirement already satisfied: cycler>=0.10 in c:\\users\\benlc\\appdata\\roaming\\python\\python311\\site-packages (from matplotlib->mediapipe) (0.12.1)\n",
      "Requirement already satisfied: fonttools>=4.22.0 in c:\\users\\benlc\\appdata\\roaming\\python\\python311\\site-packages (from matplotlib->mediapipe) (4.53.0)\n",
      "Requirement already satisfied: kiwisolver>=1.3.1 in c:\\users\\benlc\\appdata\\roaming\\python\\python311\\site-packages (from matplotlib->mediapipe) (1.4.5)\n",
      "Requirement already satisfied: packaging>=20.0 in c:\\users\\benlc\\hiphopml\\env\\lib\\site-packages (from matplotlib->mediapipe) (24.1)\n",
      "Requirement already satisfied: pillow>=8 in c:\\users\\benlc\\hiphopml\\env\\lib\\site-packages (from matplotlib->mediapipe) (10.3.0)\n",
      "Requirement already satisfied: pyparsing>=2.3.1 in c:\\users\\benlc\\hiphopml\\env\\lib\\site-packages (from matplotlib->mediapipe) (3.1.2)\n",
      "Requirement already satisfied: python-dateutil>=2.7 in c:\\users\\benlc\\hiphopml\\env\\lib\\site-packages (from matplotlib->mediapipe) (2.9.0.post0)\n",
      "Requirement already satisfied: pycparser in c:\\users\\benlc\\hiphopml\\env\\lib\\site-packages (from CFFI>=1.0->sounddevice>=0.4.4->mediapipe) (2.22)\n",
      "Requirement already satisfied: six>=1.5 in c:\\users\\benlc\\hiphopml\\env\\lib\\site-packages (from python-dateutil>=2.7->matplotlib->mediapipe) (1.16.0)\n"
     ]
    }
   ],
   "source": [
    "!pip install numpy opencv-python\n",
    "!pip install --user mediapipe"
   ]
  },
  {
   "cell_type": "code",
   "execution_count": 1,
   "metadata": {},
   "outputs": [],
   "source": [
    "import cv2\n",
    "import mediapipe as media\n",
    "import numpy as np \n",
    "\n",
    "mp_drawing_styles = media.solutions.drawing_styles\n",
    "mp_drawing = media.solutions.drawing_utils\n",
    "mp_pose = media.solutions.pose"
   ]
  },
  {
   "cell_type": "code",
   "execution_count": 2,
   "metadata": {},
   "outputs": [],
   "source": [
    "def preprocess_frame(frame):\n",
    "    H, W = frame.shape[0], frame.shape[1]\n",
    "    resizeH = 600\n",
    "    resizeW = int((W / H) * resizeH)\n",
    "    \n",
    "    input_image = cv2.resize(frame, (resizeW, resizeH))\n",
    "    #input_image = cv2.cvtColor(input_image, cv2.COLOR_RGB2BGR)    #makes you blue!\n",
    "    \n",
    "    return input_image"
   ]
  },
  {
   "cell_type": "code",
   "execution_count": 7,
   "metadata": {},
   "outputs": [],
   "source": [
    "########    PROCESS SAVED VIDEO DATA    ########\n",
    "\n",
    "#open video file\n",
    "vidURL = './data/training/reject.mp4'\n",
    "cap = cv2.VideoCapture(vidURL)\n",
    "\n",
    "with mp_pose.Pose(min_detection_confidence=0.25, min_tracking_confidence=0.25) as pose:\n",
    "    while cap.isOpened():\n",
    "        #read and preprocess frame\n",
    "        ret, frame = cap.read()\n",
    "        if not ret: \n",
    "            break\n",
    "    \n",
    "        #show feed!\n",
    "        frame = preprocess_frame(frame) \n",
    "\n",
    "        results = pose.process(frame)\n",
    "\n",
    "        mp_drawing.draw_landmarks(\n",
    "            frame,\n",
    "            results.pose_landmarks,\n",
    "            mp_pose.POSE_CONNECTIONS,\n",
    "            landmark_drawing_spec = mp_drawing_styles.get_default_pose_landmarks_style())\n",
    "    \n",
    "        cv2.imshow('Video feed', frame)\n",
    "\n",
    "#clean up and close program\n",
    "cap.release()\n",
    "cv2.destroyAllWindows()"
   ]
  },
  {
   "cell_type": "code",
   "execution_count": 14,
   "metadata": {},
   "outputs": [],
   "source": [
    "########    PROCESS LIVE WEBCAM DATA    ########\n",
    "\n",
    "#open capture\n",
    "cap = cv2.VideoCapture(0)\n",
    "pose_landmarks = []\n",
    "\n",
    "with mp_pose.Pose(min_detection_confidence=0.25, min_tracking_confidence=0.25) as pose:\n",
    "    while cap.isOpened():\n",
    "        #read and preprocess frame\n",
    "        ret, frame = cap.read()\n",
    "        if not ret: \n",
    "            break\n",
    "            \n",
    "        frame = preprocess_frame(frame)\n",
    "\n",
    "        results = pose.process(frame)\n",
    "\n",
    "        #draw pose annotation\n",
    "        mp_drawing.draw_landmarks(\n",
    "            frame,\n",
    "            results.pose_landmarks,\n",
    "            mp_pose.POSE_CONNECTIONS,\n",
    "            landmark_drawing_spec = mp_drawing_styles.get_default_pose_landmarks_style())\n",
    "        \n",
    "        #show feed!\n",
    "        cv2.imshow('Live feed', frame)\n",
    "    \n",
    "        #listen for 'Q' key\n",
    "        if cv2.waitKey(1) == ord('q'):\n",
    "            pose_landmarks = results.pose_landmarks\n",
    "            break\n",
    "\n",
    "#clean up and close program\n",
    "cap.release()\n",
    "cv2.destroyAllWindows()"
   ]
  },
  {
   "cell_type": "code",
   "execution_count": 26,
   "metadata": {},
   "outputs": [
    {
     "name": "stdout",
     "output_type": "stream",
     "text": [
      "[{'nose': {'x': 0.48893222212791443, 'y': 0.483649343252182, 'z': -0.667075514793396, 'vis': 0.9999773502349854}}, {'left_eye_inner': {'x': 0.5133267045021057, 'y': 0.426850289106369, 'z': -0.6022006273269653, 'vis': 0.999945878982544}}, {'left_eye': {'x': 0.5288814306259155, 'y': 0.426340252161026, 'z': -0.602258026599884, 'vis': 0.9999265670776367}}, {'left_eye_outer': {'x': 0.5403093099594116, 'y': 0.4259435534477234, 'z': -0.6022948622703552, 'vis': 0.9999387264251709}}, {'right_eye_inner': {'x': 0.46647000312805176, 'y': 0.4277457594871521, 'z': -0.6024585366249084, 'vis': 0.9999532699584961}}, {'right_eye': {'x': 0.45153674483299255, 'y': 0.4274459779262543, 'z': -0.6022646427154541, 'vis': 0.999946653842926}}, {'right_eye_outer': {'x': 0.43826279044151306, 'y': 0.4276259243488312, 'z': -0.6025545597076416, 'vis': 0.9999660849571228}}, {'left_ear': {'x': 0.5611522197723389, 'y': 0.4397745728492737, 'z': -0.2568216025829315, 'vis': 0.9999188184738159}}, {'right_ear': {'x': 0.4223967492580414, 'y': 0.446991890668869, 'z': -0.251758873462677, 'vis': 0.9999680519104004}}, {'mouth_left': {'x': 0.5227425694465637, 'y': 0.5338821411132812, 'z': -0.5470055341720581, 'vis': 0.9999634027481079}}, {'mouth_right': {'x': 0.46198153495788574, 'y': 0.5348658561706543, 'z': -0.5479042530059814, 'vis': 0.9999789595603943}}, {'left_shoulder': {'x': 0.6921170949935913, 'y': 0.7319338917732239, 'z': -0.1196381077170372, 'vis': 0.999477207660675}}, {'right_shoulder': {'x': 0.31001996994018555, 'y': 0.7214553952217102, 'z': -0.11561235785484314, 'vis': 0.9995887279510498}}, {'left_elbow': {'x': 0.7962404489517212, 'y': 1.0459729433059692, 'z': -0.1226559728384018, 'vis': 0.6603545546531677}}, {'right_elbow': {'x': 0.03715960681438446, 'y': 0.9070077538490295, 'z': -0.5338924527168274, 'vis': 0.9872429966926575}}, {'left_wrist': {'x': 0.867957592010498, 'y': 1.425929307937622, 'z': -0.303058922290802, 'vis': 0.29918181896209717}}, {'right_wrist': {'x': 0.11891508847475052, 'y': 0.41579878330230713, 'z': -1.0477118492126465, 'vis': 0.9656845927238464}}, {'left_pinky': {'x': 0.905210554599762, 'y': 1.5248174667358398, 'z': -0.37514862418174744, 'vis': 0.23314452171325684}}, {'right_pinky': {'x': 0.1494498997926712, 'y': 0.2824992835521698, 'z': -1.1876320838928223, 'vis': 0.8905143737792969}}, {'left_index': {'x': 0.8600267767906189, 'y': 1.5119704008102417, 'z': -0.41967490315437317, 'vis': 0.3150302767753601}}, {'right_index': {'x': 0.19348683953285217, 'y': 0.27837273478507996, 'z': -1.0942343473434448, 'vis': 0.9003896117210388}}, {'left_thumb': {'x': 0.8345304131507874, 'y': 1.48311185836792, 'z': -0.33941736817359924, 'vis': 0.33811458945274353}}, {'right_thumb': {'x': 0.19906111061573029, 'y': 0.3250958025455475, 'z': -1.034598708152771, 'vis': 0.8941732048988342}}, {'left_hip': {'x': 0.6411498785018921, 'y': 1.4103492498397827, 'z': -0.04282788187265396, 'vis': 0.004065154120326042}}, {'right_hip': {'x': 0.3769068419933319, 'y': 1.4341648817062378, 'z': 0.04627236723899841, 'vis': 0.005593457259237766}}, {'left_knee': {'x': 0.654735267162323, 'y': 1.9954439401626587, 'z': -0.14943723380565643, 'vis': 0.0013298565754666924}}, {'right_knee': {'x': 0.41646021604537964, 'y': 2.0221786499023438, 'z': -0.0821114256978035, 'vis': 0.001294516259804368}}, {'left_ankle': {'x': 0.6686705946922302, 'y': 2.519941568374634, 'z': 0.28274431824684143, 'vis': 5.0000740884570405e-05}}, {'right_ankle': {'x': 0.44669970870018005, 'y': 2.5320632457733154, 'z': 0.09128457307815552, 'vis': 2.2041198462829925e-05}}, {'left_heel': {'x': 0.6764621138572693, 'y': 2.5943777561187744, 'z': 0.296928346157074, 'vis': 2.9815446396241896e-05}}, {'right_heel': {'x': 0.44460728764533997, 'y': 2.602461099624634, 'z': 0.09705951809883118, 'vis': 2.40172230405733e-05}}, {'left_foot_index': {'x': 0.6389790177345276, 'y': 2.693913459777832, 'z': -0.2161094844341278, 'vis': 3.665625990834087e-05}}, {'right_foot_index': {'x': 0.4912000298500061, 'y': 2.7042858600616455, 'z': -0.4655382037162781, 'vis': 6.249870057217777e-05}}]\n"
     ]
    }
   ],
   "source": [
    "pose_indices = ['nose', \n",
    "                'left_eye_inner', 'left_eye', 'left_eye_outer', \n",
    "                'right_eye_inner', 'right_eye', 'right_eye_outer',\n",
    "                'left_ear', 'right_ear',\n",
    "                'mouth_left', 'mouth_right',\n",
    "                'left_shoulder', 'right_shoulder',\n",
    "                'left_elbow', 'right_elbow',\n",
    "                'left_wrist', 'right_wrist',\n",
    "                'left_pinky', 'right_pinky',\n",
    "                'left_index', 'right_index',\n",
    "                'left_thumb', 'right_thumb',\n",
    "                'left_hip', 'right_hip',\n",
    "                'left_knee', 'right_knee',\n",
    "                'left_ankle', 'right_ankle',\n",
    "                'left_heel', 'right_heel',\n",
    "                'left_foot_index', 'right_foot_index']\n",
    "\n",
    "keypoints = [{'x': point.x, 'y': point.y, 'z': point.z, 'vis': point.visibility}\n",
    "             for point in pose_landmarks.landmark]\n",
    "\n",
    "keypoints = [{pose_indices[i]: keypoints[i]} for i in range(len(pose_indices))]\n",
    "print(keypoints)\n"
   ]
  }
 ],
 "metadata": {
  "kernelspec": {
   "display_name": "Python 3 (ipykernel)",
   "language": "python",
   "name": "python3"
  },
  "language_info": {
   "codemirror_mode": {
    "name": "ipython",
    "version": 3
   },
   "file_extension": ".py",
   "mimetype": "text/x-python",
   "name": "python",
   "nbconvert_exporter": "python",
   "pygments_lexer": "ipython3",
   "version": "3.11.9"
  }
 },
 "nbformat": 4,
 "nbformat_minor": 4
}
